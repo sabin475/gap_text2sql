{
  "cells": [
    {
      "cell_type": "code",
      "execution_count": 1,
      "metadata": {
        "colab": {
          "base_uri": "https://localhost:8080/"
        },
        "id": "PffaV2pI40kL",
        "outputId": "ca826330-20a5-4b09-a82c-672854dbcece"
      },
      "outputs": [
        {
          "name": "stdout",
          "output_type": "stream",
          "text": [
            "Cloning into 'gap-text2sql'...\n",
            "remote: Enumerating objects: 382, done.\u001b[K\n",
            "remote: Counting objects: 100% (72/72), done.\u001b[K\n",
            "remote: Compressing objects: 100% (31/31), done.\u001b[K\n",
            "remote: Total 382 (delta 52), reused 41 (delta 41), pack-reused 310 (from 1)\u001b[K\n",
            "Receiving objects: 100% (382/382), 285.68 KiB | 583.00 KiB/s, done.\n",
            "Resolving deltas: 100% (131/131), done.\n"
          ]
        }
      ],
      "source": [
        "!git clone https://github.com/awslabs/gap-text2sql"
      ]
    },
    {
      "cell_type": "code",
      "execution_count": 1,
      "metadata": {},
      "outputs": [
        {
          "name": "stdout",
          "output_type": "stream",
          "text": [
            "Defaulting to user installation because normal site-packages is not writeable\n",
            "Requirement already satisfied: torch in /home/sabin/.local/lib/python3.12/site-packages (2.6.0)\n",
            "Requirement already satisfied: torchvision in /home/sabin/.local/lib/python3.12/site-packages (0.21.0)\n",
            "Requirement already satisfied: torchaudio in /home/sabin/.local/lib/python3.12/site-packages (2.6.0)\n",
            "Requirement already satisfied: filelock in /home/sabin/.local/lib/python3.12/site-packages (from torch) (3.16.1)\n",
            "Requirement already satisfied: typing-extensions>=4.10.0 in /usr/lib/python3/dist-packages (from torch) (4.10.0)\n",
            "Requirement already satisfied: networkx in /home/sabin/.local/lib/python3.12/site-packages (from torch) (3.3)\n",
            "Requirement already satisfied: jinja2 in /usr/lib/python3/dist-packages (from torch) (3.1.2)\n",
            "Requirement already satisfied: fsspec in /home/sabin/.local/lib/python3.12/site-packages (from torch) (2024.9.0)\n",
            "Requirement already satisfied: nvidia-cuda-nvrtc-cu12==12.4.127 in /home/sabin/.local/lib/python3.12/site-packages (from torch) (12.4.127)\n",
            "Requirement already satisfied: nvidia-cuda-runtime-cu12==12.4.127 in /home/sabin/.local/lib/python3.12/site-packages (from torch) (12.4.127)\n",
            "Requirement already satisfied: nvidia-cuda-cupti-cu12==12.4.127 in /home/sabin/.local/lib/python3.12/site-packages (from torch) (12.4.127)\n",
            "Requirement already satisfied: nvidia-cudnn-cu12==9.1.0.70 in /home/sabin/.local/lib/python3.12/site-packages (from torch) (9.1.0.70)\n",
            "Requirement already satisfied: nvidia-cublas-cu12==12.4.5.8 in /home/sabin/.local/lib/python3.12/site-packages (from torch) (12.4.5.8)\n",
            "Requirement already satisfied: nvidia-cufft-cu12==11.2.1.3 in /home/sabin/.local/lib/python3.12/site-packages (from torch) (11.2.1.3)\n",
            "Requirement already satisfied: nvidia-curand-cu12==10.3.5.147 in /home/sabin/.local/lib/python3.12/site-packages (from torch) (10.3.5.147)\n",
            "Requirement already satisfied: nvidia-cusolver-cu12==11.6.1.9 in /home/sabin/.local/lib/python3.12/site-packages (from torch) (11.6.1.9)\n",
            "Requirement already satisfied: nvidia-cusparse-cu12==12.3.1.170 in /home/sabin/.local/lib/python3.12/site-packages (from torch) (12.3.1.170)\n",
            "Requirement already satisfied: nvidia-cusparselt-cu12==0.6.2 in /home/sabin/.local/lib/python3.12/site-packages (from torch) (0.6.2)\n",
            "Requirement already satisfied: nvidia-nccl-cu12==2.21.5 in /home/sabin/.local/lib/python3.12/site-packages (from torch) (2.21.5)\n",
            "Requirement already satisfied: nvidia-nvtx-cu12==12.4.127 in /home/sabin/.local/lib/python3.12/site-packages (from torch) (12.4.127)\n",
            "Requirement already satisfied: nvidia-nvjitlink-cu12==12.4.127 in /home/sabin/.local/lib/python3.12/site-packages (from torch) (12.4.127)\n",
            "Requirement already satisfied: triton==3.2.0 in /home/sabin/.local/lib/python3.12/site-packages (from torch) (3.2.0)\n",
            "Requirement already satisfied: setuptools in /usr/lib/python3/dist-packages (from torch) (68.1.2)\n",
            "Requirement already satisfied: sympy==1.13.1 in /home/sabin/.local/lib/python3.12/site-packages (from torch) (1.13.1)\n",
            "Requirement already satisfied: mpmath<1.4,>=1.1.0 in /home/sabin/.local/lib/python3.12/site-packages (from sympy==1.13.1->torch) (1.3.0)\n",
            "Requirement already satisfied: numpy in /usr/lib/python3/dist-packages (from torchvision) (1.26.4)\n",
            "Requirement already satisfied: pillow!=8.3.*,>=5.3.0 in /usr/lib/python3/dist-packages (from torchvision) (10.2.0)\n",
            "Note: you may need to restart the kernel to use updated packages.\n"
          ]
        }
      ],
      "source": [
        "pip install torch torchvision torchaudio\n"
      ]
    },
    {
      "cell_type": "code",
      "execution_count": 1,
      "metadata": {
        "colab": {
          "base_uri": "https://localhost:8080/"
        },
        "id": "GocX39zg7xpr",
        "outputId": "03fbd1aa-ca61-4f8d-c1cf-6b6980b14cf1"
      },
      "outputs": [
        {
          "name": "stderr",
          "output_type": "stream",
          "text": [
            "/home/sabin/.local/lib/python3.12/site-packages/torch/utils/_pytree.py:185: FutureWarning: optree is installed but the version is too old to support PyTorch Dynamo in C++ pytree. C++ pytree support is disabled. Please consider upgrading optree using `python3 -m pip install --upgrade 'optree>=0.13.0'`.\n",
            "  warnings.warn(\n"
          ]
        },
        {
          "name": "stdout",
          "output_type": "stream",
          "text": [
            "Torch version: 2.6.0+cu124\n",
            "Torchvision version: 0.21.0+cu124\n",
            "Torchaudio version: 2.6.0+cu124\n"
          ]
        },
        {
          "name": "stderr",
          "output_type": "stream",
          "text": [
            "[nltk_data] Downloading package stopwords to /home/sabin/nltk_data...\n",
            "[nltk_data]   Package stopwords is already up-to-date!\n",
            "[nltk_data] Downloading package punkt to /home/sabin/nltk_data...\n",
            "[nltk_data]   Package punkt is already up-to-date!\n"
          ]
        },
        {
          "data": {
            "text/plain": [
              "True"
            ]
          },
          "execution_count": 1,
          "metadata": {},
          "output_type": "execute_result"
        }
      ],
      "source": [
        "\n",
        "\n",
        "# Verify installation\n",
        "import torch\n",
        "import torchvision\n",
        "import torchaudio\n",
        "\n",
        "print(\"Torch version:\", torch.__version__)\n",
        "print(\"Torchvision version:\", torchvision.__version__)\n",
        "print(\"Torchaudio version:\", torchaudio.__version__)\n",
        "\n",
        "# Install other dependencies (if needed)\n",
        "\n",
        "\n",
        "# Download NLTK datasets\n",
        "import nltk\n",
        "nltk.download('stopwords')\n",
        "nltk.download('punkt')\n"
      ]
    },
    {
      "cell_type": "code",
      "execution_count": 4,
      "metadata": {},
      "outputs": [
        {
          "name": "stdout",
          "output_type": "stream",
          "text": [
            "Defaulting to user installation because normal site-packages is not writeable\n",
            "Requirement already satisfied: transformers in /home/sabin/.local/lib/python3.12/site-packages (from -r /home/sabin/Downloads/content/drive/MyDrive/gap-text2sql/gap-text2sql/rat-sql-gap/requirements.txt (line 1)) (4.45.1)\n",
            "Collecting jsonnet~=0.14.0 (from -r /home/sabin/Downloads/content/drive/MyDrive/gap-text2sql/gap-text2sql/rat-sql-gap/requirements.txt (line 2))\n",
            "  Downloading jsonnet-0.14.0.tar.gz (253 kB)\n",
            "\u001b[2K     \u001b[90m━━━━━━━━━━━━━━━━━━━━━━━━━━━━━━━━━━━━━━━\u001b[0m \u001b[32m253.3/253.3 kB\u001b[0m \u001b[31m1.4 MB/s\u001b[0m eta \u001b[36m0:00:00\u001b[0ma \u001b[36m0:00:01\u001b[0m\n",
            "\u001b[?25h  Preparing metadata (setup.py) ... \u001b[?25ldone\n",
            "\u001b[?25hRequirement already satisfied: nltk~=3.4 in /home/sabin/.local/lib/python3.12/site-packages (from -r /home/sabin/Downloads/content/drive/MyDrive/gap-text2sql/gap-text2sql/rat-sql-gap/requirements.txt (line 3)) (3.9.1)\n",
            "Collecting networkx~=2.2 (from -r /home/sabin/Downloads/content/drive/MyDrive/gap-text2sql/gap-text2sql/rat-sql-gap/requirements.txt (line 4))\n",
            "  Downloading networkx-2.8.8-py3-none-any.whl.metadata (5.1 kB)\n",
            "Collecting entmax (from -r /home/sabin/Downloads/content/drive/MyDrive/gap-text2sql/gap-text2sql/rat-sql-gap/requirements.txt (line 5))\n",
            "  Downloading entmax-1.3-py3-none-any.whl.metadata (348 bytes)\n",
            "Collecting pyrsistent~=0.14.9 (from -r /home/sabin/Downloads/content/drive/MyDrive/gap-text2sql/gap-text2sql/rat-sql-gap/requirements.txt (line 6))\n",
            "  Downloading pyrsistent-0.14.11.tar.gz (104 kB)\n",
            "\u001b[2K     \u001b[90m━━━━━━━━━━━━━━━━━━━━━━━━━━━━━━━━━━━━━━━\u001b[0m \u001b[32m104.5/104.5 kB\u001b[0m \u001b[31m4.9 MB/s\u001b[0m eta \u001b[36m0:00:00\u001b[0m\n",
            "\u001b[?25h  Preparing metadata (setup.py) ... \u001b[?25ldone\n",
            "\u001b[?25hCollecting bpemb~=0.2.11 (from -r /home/sabin/Downloads/content/drive/MyDrive/gap-text2sql/gap-text2sql/rat-sql-gap/requirements.txt (line 7))\n",
            "  Downloading bpemb-0.2.12-py3-none-any.whl.metadata (18 kB)\n",
            "Collecting stanford-corenlp~=3.9.2 (from -r /home/sabin/Downloads/content/drive/MyDrive/gap-text2sql/gap-text2sql/rat-sql-gap/requirements.txt (line 8))\n",
            "  Downloading stanford_corenlp-3.9.2-py2.py3-none-any.whl.metadata (9.1 kB)\n",
            "Collecting torchtext~=0.3.1 (from -r /home/sabin/Downloads/content/drive/MyDrive/gap-text2sql/gap-text2sql/rat-sql-gap/requirements.txt (line 9))\n",
            "  Downloading torchtext-0.3.1-py3-none-any.whl.metadata (4.8 kB)\n",
            "Requirement already satisfied: filelock in /home/sabin/.local/lib/python3.12/site-packages (from transformers->-r /home/sabin/Downloads/content/drive/MyDrive/gap-text2sql/gap-text2sql/rat-sql-gap/requirements.txt (line 1)) (3.16.1)\n",
            "Requirement already satisfied: huggingface-hub<1.0,>=0.23.2 in /home/sabin/.local/lib/python3.12/site-packages (from transformers->-r /home/sabin/Downloads/content/drive/MyDrive/gap-text2sql/gap-text2sql/rat-sql-gap/requirements.txt (line 1)) (0.25.1)\n",
            "Requirement already satisfied: numpy>=1.17 in /usr/lib/python3/dist-packages (from transformers->-r /home/sabin/Downloads/content/drive/MyDrive/gap-text2sql/gap-text2sql/rat-sql-gap/requirements.txt (line 1)) (1.26.4)\n",
            "Requirement already satisfied: packaging>=20.0 in /usr/lib/python3/dist-packages (from transformers->-r /home/sabin/Downloads/content/drive/MyDrive/gap-text2sql/gap-text2sql/rat-sql-gap/requirements.txt (line 1)) (24.0)\n",
            "Requirement already satisfied: pyyaml>=5.1 in /usr/lib/python3/dist-packages (from transformers->-r /home/sabin/Downloads/content/drive/MyDrive/gap-text2sql/gap-text2sql/rat-sql-gap/requirements.txt (line 1)) (6.0.1)\n",
            "Requirement already satisfied: regex!=2019.12.17 in /home/sabin/.local/lib/python3.12/site-packages (from transformers->-r /home/sabin/Downloads/content/drive/MyDrive/gap-text2sql/gap-text2sql/rat-sql-gap/requirements.txt (line 1)) (2024.7.24)\n",
            "Requirement already satisfied: requests in /usr/lib/python3/dist-packages (from transformers->-r /home/sabin/Downloads/content/drive/MyDrive/gap-text2sql/gap-text2sql/rat-sql-gap/requirements.txt (line 1)) (2.31.0)\n",
            "Requirement already satisfied: safetensors>=0.4.1 in /home/sabin/.local/lib/python3.12/site-packages (from transformers->-r /home/sabin/Downloads/content/drive/MyDrive/gap-text2sql/gap-text2sql/rat-sql-gap/requirements.txt (line 1)) (0.4.5)\n",
            "Requirement already satisfied: tokenizers<0.21,>=0.20 in /home/sabin/.local/lib/python3.12/site-packages (from transformers->-r /home/sabin/Downloads/content/drive/MyDrive/gap-text2sql/gap-text2sql/rat-sql-gap/requirements.txt (line 1)) (0.20.0)\n",
            "Requirement already satisfied: tqdm>=4.27 in /home/sabin/.local/lib/python3.12/site-packages (from transformers->-r /home/sabin/Downloads/content/drive/MyDrive/gap-text2sql/gap-text2sql/rat-sql-gap/requirements.txt (line 1)) (4.66.5)\n",
            "Requirement already satisfied: click in /usr/lib/python3/dist-packages (from nltk~=3.4->-r /home/sabin/Downloads/content/drive/MyDrive/gap-text2sql/gap-text2sql/rat-sql-gap/requirements.txt (line 3)) (8.1.6)\n",
            "Requirement already satisfied: joblib in /home/sabin/.local/lib/python3.12/site-packages (from nltk~=3.4->-r /home/sabin/Downloads/content/drive/MyDrive/gap-text2sql/gap-text2sql/rat-sql-gap/requirements.txt (line 3)) (1.4.2)\n",
            "Requirement already satisfied: torch>=1.3 in /home/sabin/.local/lib/python3.12/site-packages (from entmax->-r /home/sabin/Downloads/content/drive/MyDrive/gap-text2sql/gap-text2sql/rat-sql-gap/requirements.txt (line 5)) (2.6.0)\n",
            "Requirement already satisfied: six in /usr/lib/python3/dist-packages (from pyrsistent~=0.14.9->-r /home/sabin/Downloads/content/drive/MyDrive/gap-text2sql/gap-text2sql/rat-sql-gap/requirements.txt (line 6)) (1.16.0)\n",
            "Collecting gensim (from bpemb~=0.2.11->-r /home/sabin/Downloads/content/drive/MyDrive/gap-text2sql/gap-text2sql/rat-sql-gap/requirements.txt (line 7))\n",
            "  Downloading gensim-4.3.3-cp312-cp312-manylinux_2_17_x86_64.manylinux2014_x86_64.whl.metadata (8.1 kB)\n",
            "Collecting sentencepiece (from bpemb~=0.2.11->-r /home/sabin/Downloads/content/drive/MyDrive/gap-text2sql/gap-text2sql/rat-sql-gap/requirements.txt (line 7))\n",
            "  Downloading sentencepiece-0.2.0-cp312-cp312-manylinux_2_17_x86_64.manylinux2014_x86_64.whl.metadata (7.7 kB)\n",
            "Collecting corenlp-protobuf>=3.8.0 (from stanford-corenlp~=3.9.2->-r /home/sabin/Downloads/content/drive/MyDrive/gap-text2sql/gap-text2sql/rat-sql-gap/requirements.txt (line 8))\n",
            "  Downloading corenlp_protobuf-3.8.0-py2.py3-none-any.whl.metadata (2.1 kB)\n",
            "Requirement already satisfied: protobuf in /home/sabin/.local/lib/python3.12/site-packages (from corenlp-protobuf>=3.8.0->stanford-corenlp~=3.9.2->-r /home/sabin/Downloads/content/drive/MyDrive/gap-text2sql/gap-text2sql/rat-sql-gap/requirements.txt (line 8)) (4.25.5)\n",
            "Requirement already satisfied: fsspec>=2023.5.0 in /home/sabin/.local/lib/python3.12/site-packages (from huggingface-hub<1.0,>=0.23.2->transformers->-r /home/sabin/Downloads/content/drive/MyDrive/gap-text2sql/gap-text2sql/rat-sql-gap/requirements.txt (line 1)) (2024.9.0)\n",
            "Requirement already satisfied: typing-extensions>=3.7.4.3 in /usr/lib/python3/dist-packages (from huggingface-hub<1.0,>=0.23.2->transformers->-r /home/sabin/Downloads/content/drive/MyDrive/gap-text2sql/gap-text2sql/rat-sql-gap/requirements.txt (line 1)) (4.10.0)\n",
            "Requirement already satisfied: jinja2 in /usr/lib/python3/dist-packages (from torch>=1.3->entmax->-r /home/sabin/Downloads/content/drive/MyDrive/gap-text2sql/gap-text2sql/rat-sql-gap/requirements.txt (line 5)) (3.1.2)\n",
            "Requirement already satisfied: nvidia-cuda-nvrtc-cu12==12.4.127 in /home/sabin/.local/lib/python3.12/site-packages (from torch>=1.3->entmax->-r /home/sabin/Downloads/content/drive/MyDrive/gap-text2sql/gap-text2sql/rat-sql-gap/requirements.txt (line 5)) (12.4.127)\n",
            "Requirement already satisfied: nvidia-cuda-runtime-cu12==12.4.127 in /home/sabin/.local/lib/python3.12/site-packages (from torch>=1.3->entmax->-r /home/sabin/Downloads/content/drive/MyDrive/gap-text2sql/gap-text2sql/rat-sql-gap/requirements.txt (line 5)) (12.4.127)\n",
            "Requirement already satisfied: nvidia-cuda-cupti-cu12==12.4.127 in /home/sabin/.local/lib/python3.12/site-packages (from torch>=1.3->entmax->-r /home/sabin/Downloads/content/drive/MyDrive/gap-text2sql/gap-text2sql/rat-sql-gap/requirements.txt (line 5)) (12.4.127)\n",
            "Requirement already satisfied: nvidia-cudnn-cu12==9.1.0.70 in /home/sabin/.local/lib/python3.12/site-packages (from torch>=1.3->entmax->-r /home/sabin/Downloads/content/drive/MyDrive/gap-text2sql/gap-text2sql/rat-sql-gap/requirements.txt (line 5)) (9.1.0.70)\n",
            "Requirement already satisfied: nvidia-cublas-cu12==12.4.5.8 in /home/sabin/.local/lib/python3.12/site-packages (from torch>=1.3->entmax->-r /home/sabin/Downloads/content/drive/MyDrive/gap-text2sql/gap-text2sql/rat-sql-gap/requirements.txt (line 5)) (12.4.5.8)\n",
            "Requirement already satisfied: nvidia-cufft-cu12==11.2.1.3 in /home/sabin/.local/lib/python3.12/site-packages (from torch>=1.3->entmax->-r /home/sabin/Downloads/content/drive/MyDrive/gap-text2sql/gap-text2sql/rat-sql-gap/requirements.txt (line 5)) (11.2.1.3)\n",
            "Requirement already satisfied: nvidia-curand-cu12==10.3.5.147 in /home/sabin/.local/lib/python3.12/site-packages (from torch>=1.3->entmax->-r /home/sabin/Downloads/content/drive/MyDrive/gap-text2sql/gap-text2sql/rat-sql-gap/requirements.txt (line 5)) (10.3.5.147)\n",
            "Requirement already satisfied: nvidia-cusolver-cu12==11.6.1.9 in /home/sabin/.local/lib/python3.12/site-packages (from torch>=1.3->entmax->-r /home/sabin/Downloads/content/drive/MyDrive/gap-text2sql/gap-text2sql/rat-sql-gap/requirements.txt (line 5)) (11.6.1.9)\n",
            "Requirement already satisfied: nvidia-cusparse-cu12==12.3.1.170 in /home/sabin/.local/lib/python3.12/site-packages (from torch>=1.3->entmax->-r /home/sabin/Downloads/content/drive/MyDrive/gap-text2sql/gap-text2sql/rat-sql-gap/requirements.txt (line 5)) (12.3.1.170)\n",
            "Requirement already satisfied: nvidia-cusparselt-cu12==0.6.2 in /home/sabin/.local/lib/python3.12/site-packages (from torch>=1.3->entmax->-r /home/sabin/Downloads/content/drive/MyDrive/gap-text2sql/gap-text2sql/rat-sql-gap/requirements.txt (line 5)) (0.6.2)\n",
            "Requirement already satisfied: nvidia-nccl-cu12==2.21.5 in /home/sabin/.local/lib/python3.12/site-packages (from torch>=1.3->entmax->-r /home/sabin/Downloads/content/drive/MyDrive/gap-text2sql/gap-text2sql/rat-sql-gap/requirements.txt (line 5)) (2.21.5)\n",
            "Requirement already satisfied: nvidia-nvtx-cu12==12.4.127 in /home/sabin/.local/lib/python3.12/site-packages (from torch>=1.3->entmax->-r /home/sabin/Downloads/content/drive/MyDrive/gap-text2sql/gap-text2sql/rat-sql-gap/requirements.txt (line 5)) (12.4.127)\n",
            "Requirement already satisfied: nvidia-nvjitlink-cu12==12.4.127 in /home/sabin/.local/lib/python3.12/site-packages (from torch>=1.3->entmax->-r /home/sabin/Downloads/content/drive/MyDrive/gap-text2sql/gap-text2sql/rat-sql-gap/requirements.txt (line 5)) (12.4.127)\n",
            "Requirement already satisfied: triton==3.2.0 in /home/sabin/.local/lib/python3.12/site-packages (from torch>=1.3->entmax->-r /home/sabin/Downloads/content/drive/MyDrive/gap-text2sql/gap-text2sql/rat-sql-gap/requirements.txt (line 5)) (3.2.0)\n",
            "Requirement already satisfied: setuptools in /usr/lib/python3/dist-packages (from torch>=1.3->entmax->-r /home/sabin/Downloads/content/drive/MyDrive/gap-text2sql/gap-text2sql/rat-sql-gap/requirements.txt (line 5)) (68.1.2)\n",
            "Requirement already satisfied: sympy==1.13.1 in /home/sabin/.local/lib/python3.12/site-packages (from torch>=1.3->entmax->-r /home/sabin/Downloads/content/drive/MyDrive/gap-text2sql/gap-text2sql/rat-sql-gap/requirements.txt (line 5)) (1.13.1)\n",
            "Requirement already satisfied: mpmath<1.4,>=1.1.0 in /home/sabin/.local/lib/python3.12/site-packages (from sympy==1.13.1->torch>=1.3->entmax->-r /home/sabin/Downloads/content/drive/MyDrive/gap-text2sql/gap-text2sql/rat-sql-gap/requirements.txt (line 5)) (1.3.0)\n",
            "Requirement already satisfied: scipy<1.14.0,>=1.7.0 in /usr/lib/python3/dist-packages (from gensim->bpemb~=0.2.11->-r /home/sabin/Downloads/content/drive/MyDrive/gap-text2sql/gap-text2sql/rat-sql-gap/requirements.txt (line 7)) (1.11.4)\n",
            "Collecting smart-open>=1.8.1 (from gensim->bpemb~=0.2.11->-r /home/sabin/Downloads/content/drive/MyDrive/gap-text2sql/gap-text2sql/rat-sql-gap/requirements.txt (line 7))\n",
            "  Downloading smart_open-7.1.0-py3-none-any.whl.metadata (24 kB)\n",
            "Requirement already satisfied: wrapt in /home/sabin/.local/lib/python3.12/site-packages (from smart-open>=1.8.1->gensim->bpemb~=0.2.11->-r /home/sabin/Downloads/content/drive/MyDrive/gap-text2sql/gap-text2sql/rat-sql-gap/requirements.txt (line 7)) (1.16.0)\n",
            "Downloading networkx-2.8.8-py3-none-any.whl (2.0 MB)\n",
            "\u001b[2K   \u001b[90m━━━━━━━━━━━━━━━━━━━━━━━━━━━━━━━━━━━━━━━━\u001b[0m \u001b[32m2.0/2.0 MB\u001b[0m \u001b[31m3.2 MB/s\u001b[0m eta \u001b[36m0:00:00\u001b[0m00:01\u001b[0m00:01\u001b[0m\n",
            "\u001b[?25hDownloading entmax-1.3-py3-none-any.whl (13 kB)\n",
            "Downloading bpemb-0.2.12-py3-none-any.whl (19 kB)\n",
            "Downloading stanford_corenlp-3.9.2-py2.py3-none-any.whl (11 kB)\n",
            "Downloading torchtext-0.3.1-py3-none-any.whl (62 kB)\n",
            "\u001b[2K   \u001b[90m━━━━━━━━━━━━━━━━━━━━━━━━━━━━━━━━━━━━━━━━\u001b[0m \u001b[32m62.4/62.4 kB\u001b[0m \u001b[31m2.1 MB/s\u001b[0m eta \u001b[36m0:00:00\u001b[0m\n",
            "\u001b[?25hDownloading corenlp_protobuf-3.8.0-py2.py3-none-any.whl (15 kB)\n",
            "Downloading gensim-4.3.3-cp312-cp312-manylinux_2_17_x86_64.manylinux2014_x86_64.whl (26.6 MB)\n",
            "\u001b[2K   \u001b[90m━━━━━━━━━━━━━━━━━━━━━━━━━━━━━━━━━━━━━━━━\u001b[0m \u001b[32m26.6/26.6 MB\u001b[0m \u001b[31m4.4 MB/s\u001b[0m eta \u001b[36m0:00:00\u001b[0m00:01\u001b[0m00:01\u001b[0m\n",
            "\u001b[?25hDownloading sentencepiece-0.2.0-cp312-cp312-manylinux_2_17_x86_64.manylinux2014_x86_64.whl (1.3 MB)\n",
            "\u001b[2K   \u001b[90m━━━━━━━━━━━━━━━━━━━━━━━━━━━━━━━━━━━━━━━━\u001b[0m \u001b[32m1.3/1.3 MB\u001b[0m \u001b[31m4.3 MB/s\u001b[0m eta \u001b[36m0:00:00\u001b[0ma \u001b[36m0:00:01\u001b[0m\n",
            "\u001b[?25hDownloading smart_open-7.1.0-py3-none-any.whl (61 kB)\n",
            "\u001b[2K   \u001b[90m━━━━━━━━━━━━━━━━━━━━━━━━━━━━━━━━━━━━━━━━\u001b[0m \u001b[32m61.7/61.7 kB\u001b[0m \u001b[31m4.6 MB/s\u001b[0m eta \u001b[36m0:00:00\u001b[0m\n",
            "\u001b[?25hBuilding wheels for collected packages: jsonnet, pyrsistent\n",
            "  Building wheel for jsonnet (setup.py) ... \u001b[?25ldone\n",
            "\u001b[?25h  Created wheel for jsonnet: filename=jsonnet-0.14.0-cp312-cp312-linux_x86_64.whl size=4837308 sha256=03553efd42a15f09b35455cd19a4806206d0056d13142f87215196d9bc1a0848\n",
            "  Stored in directory: /home/sabin/.cache/pip/wheels/fe/e7/d4/8c063c8218b0274daab59aaff687e1734eb6a560fefd6efdae\n",
            "  Building wheel for pyrsistent (setup.py) ... \u001b[?25ldone\n",
            "\u001b[?25h  Created wheel for pyrsistent: filename=pyrsistent-0.14.11-cp312-cp312-linux_x86_64.whl size=104682 sha256=0a1abd806764328e0f8195a8b7c80622f8fb7e1109867143ccf7b8c81fb3fe95\n",
            "  Stored in directory: /home/sabin/.cache/pip/wheels/0e/fe/0f/a4fe0cd0f6722e483488c49c0ccb3bb79b8ce39bbc89b97bae\n",
            "Successfully built jsonnet pyrsistent\n",
            "Installing collected packages: sentencepiece, jsonnet, smart-open, pyrsistent, networkx, corenlp-protobuf, stanford-corenlp, gensim, bpemb, torchtext, entmax\n",
            "  Attempting uninstall: networkx\n",
            "    Found existing installation: networkx 3.3\n",
            "    Uninstalling networkx-3.3:\n",
            "      Successfully uninstalled networkx-3.3\n",
            "Successfully installed bpemb-0.2.12 corenlp-protobuf-3.8.0 entmax-1.3 gensim-4.3.3 jsonnet-0.14.0 networkx-2.8.8 pyrsistent-0.14.11 sentencepiece-0.2.0 smart-open-7.1.0 stanford-corenlp-3.9.2 torchtext-0.3.1\n",
            "Note: you may need to restart the kernel to use updated packages.\n"
          ]
        }
      ],
      "source": [
        "pip install -r /home/sabin/Downloads/content/drive/MyDrive/gap-text2sql/gap-text2sql/rat-sql-gap/requirements.txt"
      ]
    },
    {
      "cell_type": "code",
      "execution_count": 6,
      "metadata": {
        "colab": {
          "base_uri": "https://localhost:8080/"
        },
        "id": "Db05eAGZ-OfD",
        "outputId": "87810c6c-0cf4-4819-cd53-7ccbb2a9c2d9"
      },
      "outputs": [
        {
          "name": "stdout",
          "output_type": "stream",
          "text": [
            "Defaulting to user installation because normal site-packages is not writeable\n",
            "Requirement already satisfied: gdown in /home/sabin/.local/lib/python3.12/site-packages (5.2.0)\n",
            "Requirement already satisfied: beautifulsoup4 in /usr/lib/python3/dist-packages (from gdown) (4.12.3)\n",
            "Requirement already satisfied: filelock in /home/sabin/.local/lib/python3.12/site-packages (from gdown) (3.16.1)\n",
            "Requirement already satisfied: requests[socks] in /usr/lib/python3/dist-packages (from gdown) (2.31.0)\n",
            "Requirement already satisfied: tqdm in /home/sabin/.local/lib/python3.12/site-packages (from gdown) (4.66.5)\n",
            "Requirement already satisfied: soupsieve>1.2 in /usr/lib/python3/dist-packages (from beautifulsoup4->gdown) (2.5)\n",
            "Requirement already satisfied: PySocks!=1.5.7,>=1.5.6 in /home/sabin/.local/lib/python3.12/site-packages (from requests[socks]->gdown) (1.7.1)\n",
            "/home/sabin/Downloads/content/drive/MyDrive/gap-text2sql/gap-text2sql/rat-sql-gap/rat-sql-gap\n",
            "/home/sabin/.local/lib/python3.12/site-packages/gdown/__main__.py:140: FutureWarning: Option `--id` was deprecated in version 4.3.1 and will be removed in 5.0. You don't need to pass it anymore to use a file ID.\n",
            "  warnings.warn(\n",
            "Failed to retrieve file url:\n",
            "\n",
            "\tCannot retrieve the public link of the file. You may need to change\n",
            "\tthe permission to 'Anyone with the link', or have had many accesses.\n",
            "\tCheck FAQ in https://github.com/wkentaro/gdown?tab=readme-ov-file#faq.\n",
            "\n",
            "You may still be able to access the file from the browser:\n",
            "\n",
            "\thttps://drive.google.com/uc?id=1_AckYkinAnhqmRQtGsQgUKAnTHxxX5J0\n",
            "\n",
            "but Gdown can't. Please check connections and permissions.\n",
            "unzip:  cannot find or open spider.zip, spider.zip.zip or spider.zip.ZIP.\n",
            "Please specify directory containing Spider files.\n"
          ]
        }
      ],
      "source": [
        "# Install gdown\n",
        "!pip install gdown\n",
        "\n",
        "# Change directory (if necessary, use %cd for Colab)\n",
        "!mkdir -p rat-sql-gap\n",
        "%cd rat-sql-gap\n",
        "\n",
        "# Download the file using gdown\n",
        "!gdown --id 1_AckYkinAnhqmRQtGsQgUKAnTHxxX5J0\n",
        "\n",
        "# Unzip the downloaded file\n",
        "!unzip spider.zip\n",
        "\n",
        "# Run the generate.sh script\n",
        "!bash /home/sabin/Downloads/content/drive/MyDrive/gap-text2sql/gap-text2sql/rat-sql-gap/data/spider/generate.sh\n"
      ]
    },
    {
      "cell_type": "code",
      "execution_count": 7,
      "metadata": {
        "colab": {
          "base_uri": "https://localhost:8080/"
        },
        "id": "ynysw_1lSvuo",
        "outputId": "b20ed313-3e58-4910-9b74-500e4e9c0aa8"
      },
      "outputs": [
        {
          "name": "stdout",
          "output_type": "stream",
          "text": [
            "ln: failed to create symbolic link 'data/spider-bart/database': No such file or directory\n"
          ]
        }
      ],
      "source": [
        "# Remove the existing file/directory\n",
        "!rm -rf data/spider-bart/database\n",
        "\n",
        "# Create the symbolic link again\n",
        "!ln -s $(pwd)/spider/database data/spider-bart/database\n"
      ]
    },
    {
      "cell_type": "code",
      "execution_count": null,
      "metadata": {
        "colab": {
          "base_uri": "https://localhost:8080/"
        },
        "id": "9yrzpjAATGrz",
        "outputId": "411561f6-1bf6-4807-cefb-644c25a1c72c"
      },
      "outputs": [
        {
          "name": "stdout",
          "output_type": "stream",
          "text": [
            "ln: failed to create symbolic link 'data/spider-bart/database': No such file or directory\n"
          ]
        }
      ],
      "source": [
        "# Forcefully overwrite the existing link\n",
        "!ln -sf $(pwd)/spider/database data/spider-bart/database\n"
      ]
    },
    {
      "cell_type": "code",
      "execution_count": null,
      "metadata": {
        "colab": {
          "base_uri": "https://localhost:8080/"
        },
        "id": "L8Vwd3XSQJa8",
        "outputId": "da2d8659-e4b4-4061-8c7a-02519991444d"
      },
      "outputs": [
        {
          "name": "stdout",
          "output_type": "stream",
          "text": [
            "cp: cannot stat '/content/gap-text2sql/rat-sql-gap/data/spider/spider/tables.json': No such file or directory\n",
            "cp: cannot stat '/content/gap-text2sql/rat-sql-gap/data/spider/spider/train_spider.json': No such file or directory\n",
            "cp: cannot stat '/content/gap-text2sql/rat-sql-gap/data/spider/spider/train_others.json': No such file or directory\n",
            "cp: cannot stat '/content/gap-text2sql/rat-sql-gap/data/spider/spider/dev.json': No such file or directory\n"
          ]
        }
      ],
      "source": [
        "# Create the directory\n",
        "!mkdir -p data/spider-bart\n",
        "\n",
        "# Copy the files into the new directory\n",
        "!cp /content/gap-text2sql/rat-sql-gap/data/spider/spider/tables.json data/spider-bart/\n",
        "!cp /content/gap-text2sql/rat-sql-gap/data/spider/spider/train_spider.json data/spider-bart/\n",
        "!cp /content/gap-text2sql/rat-sql-gap/data/spider/spider/train_others.json data/spider-bart/\n",
        "!cp /content/gap-text2sql/rat-sql-gap/data/spider/spider/dev.json data/spider-bart/\n",
        "\n",
        "# Forcefully overwrite the existing link\n",
        "!ln -sf $(pwd)/spider/database data/spider-bart/database\n",
        "\n"
      ]
    },
    {
      "cell_type": "code",
      "execution_count": 8,
      "metadata": {
        "colab": {
          "base_uri": "https://localhost:8080/"
        },
        "id": "lPpBtSkQTSsI",
        "outputId": "ed8199ff-7876-47e5-d0e9-b564fa157823"
      },
      "outputs": [
        {
          "name": "stdout",
          "output_type": "stream",
          "text": [
            "--2025-02-04 17:49:55--  http://nlp.stanford.edu/software/stanford-corenlp-full-2018-10-05.zip\n",
            "Resolving nlp.stanford.edu (nlp.stanford.edu)... 171.64.67.140\n",
            "Connecting to nlp.stanford.edu (nlp.stanford.edu)|171.64.67.140|:80... connected.\n",
            "HTTP request sent, awaiting response... 302 Found\n",
            "Location: https://nlp.stanford.edu/software/stanford-corenlp-full-2018-10-05.zip [following]\n",
            "--2025-02-04 17:49:57--  https://nlp.stanford.edu/software/stanford-corenlp-full-2018-10-05.zip\n",
            "Connecting to nlp.stanford.edu (nlp.stanford.edu)|171.64.67.140|:443... connected.\n",
            "HTTP request sent, awaiting response... 302 FOUND\n",
            "Location: https://downloads.cs.stanford.edu/nlp/software/stanford-corenlp-full-2018-10-05.zip [following]\n",
            "--2025-02-04 17:49:58--  https://downloads.cs.stanford.edu/nlp/software/stanford-corenlp-full-2018-10-05.zip\n",
            "Resolving downloads.cs.stanford.edu (downloads.cs.stanford.edu)... 171.64.64.22\n",
            "Connecting to downloads.cs.stanford.edu (downloads.cs.stanford.edu)|171.64.64.22|:443... connected.\n",
            "HTTP request sent, awaiting response... 200 OK\n",
            "Length: 393239982 (375M) [application/zip]\n",
            "Saving to: ‘stanford-corenlp-full-2018-10-05.zip’\n",
            "\n",
            "stanford-corenlp-fu 100%[===================>] 375.02M  4.92MB/s    in 86s     \n",
            "\n",
            "2025-02-04 17:51:31 (4.39 MB/s) - ‘stanford-corenlp-full-2018-10-05.zip’ saved [393239982/393239982]\n",
            "\n",
            "Archive:  stanford-corenlp-full-2018-10-05.zip\n",
            "   creating: third_party/stanford-corenlp-full-2018-10-05/\n",
            "  inflating: third_party/stanford-corenlp-full-2018-10-05/jaxb-core-2.3.0.1-sources.jar  \n",
            "  inflating: third_party/stanford-corenlp-full-2018-10-05/xom-1.2.10-src.jar  \n",
            "  inflating: third_party/stanford-corenlp-full-2018-10-05/CoreNLP-to-HTML.xsl  \n",
            "  inflating: third_party/stanford-corenlp-full-2018-10-05/README.txt  \n",
            "  inflating: third_party/stanford-corenlp-full-2018-10-05/jollyday-0.4.9-sources.jar  \n",
            "  inflating: third_party/stanford-corenlp-full-2018-10-05/LIBRARY-LICENSES  \n",
            "   creating: third_party/stanford-corenlp-full-2018-10-05/sutime/\n",
            "  inflating: third_party/stanford-corenlp-full-2018-10-05/sutime/british.sutime.txt  \n",
            "  inflating: third_party/stanford-corenlp-full-2018-10-05/sutime/defs.sutime.txt  \n",
            "  inflating: third_party/stanford-corenlp-full-2018-10-05/sutime/spanish.sutime.txt  \n",
            "  inflating: third_party/stanford-corenlp-full-2018-10-05/sutime/english.sutime.txt  \n",
            "  inflating: third_party/stanford-corenlp-full-2018-10-05/sutime/english.holidays.sutime.txt  \n",
            " extracting: third_party/stanford-corenlp-full-2018-10-05/ejml-0.23-src.zip  \n",
            "  inflating: third_party/stanford-corenlp-full-2018-10-05/input.txt.xml  \n",
            "  inflating: third_party/stanford-corenlp-full-2018-10-05/build.xml  \n",
            "  inflating: third_party/stanford-corenlp-full-2018-10-05/pom.xml  \n",
            "  inflating: third_party/stanford-corenlp-full-2018-10-05/stanford-corenlp-3.9.2-javadoc.jar  \n",
            "   creating: third_party/stanford-corenlp-full-2018-10-05/tokensregex/\n",
            "  inflating: third_party/stanford-corenlp-full-2018-10-05/tokensregex/color.input.txt  \n",
            "  inflating: third_party/stanford-corenlp-full-2018-10-05/tokensregex/retokenize.txt  \n",
            "  inflating: third_party/stanford-corenlp-full-2018-10-05/tokensregex/color.properties  \n",
            "  inflating: third_party/stanford-corenlp-full-2018-10-05/tokensregex/color.rules.txt  \n",
            "  inflating: third_party/stanford-corenlp-full-2018-10-05/javax.json-api-1.0-sources.jar  \n",
            "  inflating: third_party/stanford-corenlp-full-2018-10-05/jaxb-api-2.4.0-b180830.0359-sources.jar  \n",
            "  inflating: third_party/stanford-corenlp-full-2018-10-05/stanford-corenlp-3.9.2-models.jar  \n",
            "  inflating: third_party/stanford-corenlp-full-2018-10-05/protobuf.jar  \n",
            "  inflating: third_party/stanford-corenlp-full-2018-10-05/javax.activation-api-1.2.0.jar  \n",
            "  inflating: third_party/stanford-corenlp-full-2018-10-05/StanfordDependenciesManual.pdf  \n",
            "   creating: third_party/stanford-corenlp-full-2018-10-05/patterns/\n",
            "  inflating: third_party/stanford-corenlp-full-2018-10-05/patterns/example.properties  \n",
            " extracting: third_party/stanford-corenlp-full-2018-10-05/patterns/otherpeople.txt  \n",
            " extracting: third_party/stanford-corenlp-full-2018-10-05/patterns/goldplaces.txt  \n",
            "  inflating: third_party/stanford-corenlp-full-2018-10-05/patterns/stopwords.txt  \n",
            "  inflating: third_party/stanford-corenlp-full-2018-10-05/patterns/presidents.txt  \n",
            "  inflating: third_party/stanford-corenlp-full-2018-10-05/patterns/names.txt  \n",
            " extracting: third_party/stanford-corenlp-full-2018-10-05/patterns/places.txt  \n",
            "  inflating: third_party/stanford-corenlp-full-2018-10-05/patterns/goldnames.txt  \n",
            "  inflating: third_party/stanford-corenlp-full-2018-10-05/slf4j-simple.jar  \n",
            "  inflating: third_party/stanford-corenlp-full-2018-10-05/stanford-corenlp-3.9.2-sources.jar  \n",
            "  inflating: third_party/stanford-corenlp-full-2018-10-05/input.txt  \n",
            "  inflating: third_party/stanford-corenlp-full-2018-10-05/joda-time.jar  \n",
            "  inflating: third_party/stanford-corenlp-full-2018-10-05/xom.jar  \n",
            "  inflating: third_party/stanford-corenlp-full-2018-10-05/jaxb-impl-2.4.0-b180830.0438-sources.jar  \n",
            "  inflating: third_party/stanford-corenlp-full-2018-10-05/StanfordCoreNlpDemo.java  \n",
            "  inflating: third_party/stanford-corenlp-full-2018-10-05/jaxb-core-2.3.0.1.jar  \n",
            "  inflating: third_party/stanford-corenlp-full-2018-10-05/RESOURCE-LICENSES  \n",
            "  inflating: third_party/stanford-corenlp-full-2018-10-05/javax.activation-api-1.2.0-sources.jar  \n",
            "  inflating: third_party/stanford-corenlp-full-2018-10-05/slf4j-api.jar  \n",
            "  inflating: third_party/stanford-corenlp-full-2018-10-05/pom-java-11.xml  \n",
            "  inflating: third_party/stanford-corenlp-full-2018-10-05/ejml-0.23.jar  \n",
            "  inflating: third_party/stanford-corenlp-full-2018-10-05/javax.json.jar  \n",
            "  inflating: third_party/stanford-corenlp-full-2018-10-05/Makefile  \n",
            "  inflating: third_party/stanford-corenlp-full-2018-10-05/corenlp.sh  \n",
            "  inflating: third_party/stanford-corenlp-full-2018-10-05/joda-time-2.9-sources.jar  \n",
            "  inflating: third_party/stanford-corenlp-full-2018-10-05/jaxb-api-2.4.0-b180830.0359.jar  \n",
            "  inflating: third_party/stanford-corenlp-full-2018-10-05/jollyday.jar  \n",
            "  inflating: third_party/stanford-corenlp-full-2018-10-05/ShiftReduceDemo.java  \n",
            "  inflating: third_party/stanford-corenlp-full-2018-10-05/jaxb-impl-2.4.0-b180830.0438.jar  \n",
            "  inflating: third_party/stanford-corenlp-full-2018-10-05/stanford-corenlp-3.9.2.jar  \n",
            "  inflating: third_party/stanford-corenlp-full-2018-10-05/SemgrexDemo.java  \n",
            "  inflating: third_party/stanford-corenlp-full-2018-10-05/LICENSE.txt  \n"
          ]
        }
      ],
      "source": [
        "# Create the directory\n",
        "!mkdir -p third_party\n",
        "\n",
        "# Download the Stanford CoreNLP zip file\n",
        "!wget http://nlp.stanford.edu/software/stanford-corenlp-full-2018-10-05.zip\n",
        "\n",
        "# Unzip the downloaded file into the 'third_party' directory\n",
        "!unzip stanford-corenlp-full-2018-10-05.zip -d third_party/\n"
      ]
    },
    {
      "cell_type": "code",
      "execution_count": 16,
      "metadata": {},
      "outputs": [
        {
          "name": "stdout",
          "output_type": "stream",
          "text": [
            "[sudo] password for sabin: \n",
            "[sudo] password for sabin: \n"
          ]
        }
      ],
      "source": [
        "!sudo apt update\n",
        "!sudo apt install default-jdk -y\n",
        "\n"
      ]
    },
    {
      "cell_type": "code",
      "execution_count": 18,
      "metadata": {},
      "outputs": [
        {
          "data": {
            "text/plain": [
              "<Popen: returncode: None args: ['java', '-mx4g', '-cp', '*', 'edu.stanford.n...>"
            ]
          },
          "execution_count": 18,
          "metadata": {},
          "output_type": "execute_result"
        }
      ],
      "source": [
        "import subprocess\n",
        "\n",
        "# Navigate to the directory\n",
        "corenlp_dir = '/home/sabin/Downloads/content/drive/MyDrive/gap-text2sql/gap-text2sql/rat-sql-gap/third_party/stanford-corenlp-4.5.8'\n",
        "\n",
        "# Start the CoreNLP server\n",
        "subprocess.Popen(\n",
        "    ['java', '-mx4g', '-cp', '*', 'edu.stanford.nlp.pipeline.StanfordCoreNLPServer', '-port', '8999', '-timeout', '15000'],\n",
        "    cwd=corenlp_dir,\n",
        "    stdout=open('server.log', 'w'),\n",
        "    stderr=subprocess.STDOUT\n",
        ")\n"
      ]
    },
    {
      "cell_type": "code",
      "execution_count": 19,
      "metadata": {
        "colab": {
          "base_uri": "https://localhost:8080/"
        },
        "id": "enIfpmt8T6k4",
        "outputId": "cbc8f4ef-c5c3-42bd-d6bb-a52170e72207"
      },
      "outputs": [
        {
          "name": "stdout",
          "output_type": "stream",
          "text": [
            "/home/sabin/Downloads/content/drive/MyDrive/gap-text2sql/gap-text2sql/rat-sql-gap/third_party/stanford-corenlp-4.5.8\n"
          ]
        },
        {
          "name": "stderr",
          "output_type": "stream",
          "text": [
            "/usr/lib/python3/dist-packages/IPython/core/magics/osm.py:417: UserWarning: using dhist requires you to install the `pickleshare` library.\n",
            "  self.shell.db['dhist'] = compress_dhist(dhist)[-100:]\n"
          ]
        },
        {
          "ename": "OSError",
          "evalue": "Background processes not supported.",
          "output_type": "error",
          "traceback": [
            "\u001b[0;31m---------------------------------------------------------------------------\u001b[0m",
            "\u001b[0;31mOSError\u001b[0m                                   Traceback (most recent call last)",
            "Cell \u001b[0;32mIn[19], line 5\u001b[0m\n\u001b[1;32m      2\u001b[0m get_ipython()\u001b[38;5;241m.\u001b[39mrun_line_magic(\u001b[38;5;124m'\u001b[39m\u001b[38;5;124mcd\u001b[39m\u001b[38;5;124m'\u001b[39m, \u001b[38;5;124m'\u001b[39m\u001b[38;5;124m/home/sabin/Downloads/content/drive/MyDrive/gap-text2sql/gap-text2sql/rat-sql-gap/third_party/stanford-corenlp-4.5.8\u001b[39m\u001b[38;5;124m'\u001b[39m)\n\u001b[1;32m      4\u001b[0m \u001b[38;5;66;03m# Start the Stanford CoreNLP Server\u001b[39;00m\n\u001b[0;32m----> 5\u001b[0m \u001b[43mget_ipython\u001b[49m\u001b[43m(\u001b[49m\u001b[43m)\u001b[49m\u001b[38;5;241;43m.\u001b[39;49m\u001b[43msystem\u001b[49m\u001b[43m(\u001b[49m\u001b[38;5;124;43m'\u001b[39;49m\u001b[38;5;124;43mnohup java -mx4g -cp \u001b[39;49m\u001b[38;5;124;43m\"\u001b[39;49m\u001b[38;5;124;43m*\u001b[39;49m\u001b[38;5;124;43m\"\u001b[39;49m\u001b[38;5;124;43m edu.stanford.nlp.pipeline.StanfordCoreNLPServer -port 8999 -timeout 15000 > server.log &\u001b[39;49m\u001b[38;5;124;43m'\u001b[39;49m\u001b[43m)\u001b[49m\n\u001b[1;32m      7\u001b[0m \u001b[38;5;66;03m# Return to the previous directory\u001b[39;00m\n\u001b[1;32m      8\u001b[0m get_ipython()\u001b[38;5;241m.\u001b[39mrun_line_magic(\u001b[38;5;124m'\u001b[39m\u001b[38;5;124mcd\u001b[39m\u001b[38;5;124m'\u001b[39m, \u001b[38;5;124m'\u001b[39m\u001b[38;5;124m../../\u001b[39m\u001b[38;5;124m'\u001b[39m)\n",
            "File \u001b[0;32m/usr/lib/python3/dist-packages/ipykernel/zmqshell.py:641\u001b[0m, in \u001b[0;36mZMQInteractiveShell.system_piped\u001b[0;34m(self, cmd)\u001b[0m\n\u001b[1;32m    634\u001b[0m \u001b[38;5;28;01mif\u001b[39;00m cmd\u001b[38;5;241m.\u001b[39mrstrip()\u001b[38;5;241m.\u001b[39mendswith(\u001b[38;5;124m\"\u001b[39m\u001b[38;5;124m&\u001b[39m\u001b[38;5;124m\"\u001b[39m):\n\u001b[1;32m    635\u001b[0m     \u001b[38;5;66;03m# this is *far* from a rigorous test\u001b[39;00m\n\u001b[1;32m    636\u001b[0m     \u001b[38;5;66;03m# We do not support backgrounding processes because we either use\u001b[39;00m\n\u001b[1;32m    637\u001b[0m     \u001b[38;5;66;03m# pexpect or pipes to read from.  Users can always just call\u001b[39;00m\n\u001b[1;32m    638\u001b[0m     \u001b[38;5;66;03m# os.system() or use ip.system=ip.system_raw\u001b[39;00m\n\u001b[1;32m    639\u001b[0m     \u001b[38;5;66;03m# if they really want a background process.\u001b[39;00m\n\u001b[1;32m    640\u001b[0m     msg \u001b[38;5;241m=\u001b[39m \u001b[38;5;124m\"\u001b[39m\u001b[38;5;124mBackground processes not supported.\u001b[39m\u001b[38;5;124m\"\u001b[39m\n\u001b[0;32m--> 641\u001b[0m     \u001b[38;5;28;01mraise\u001b[39;00m \u001b[38;5;167;01mOSError\u001b[39;00m(msg)\n\u001b[1;32m    643\u001b[0m \u001b[38;5;66;03m# we explicitly do NOT return the subprocess status code, because\u001b[39;00m\n\u001b[1;32m    644\u001b[0m \u001b[38;5;66;03m# a non-None value would trigger :func:`sys.displayhook` calls.\u001b[39;00m\n\u001b[1;32m    645\u001b[0m \u001b[38;5;66;03m# Instead, we store the exit_code in user_ns.\u001b[39;00m\n\u001b[1;32m    646\u001b[0m \u001b[38;5;66;03m# Also, protect system call from UNC paths on Windows here too\u001b[39;00m\n\u001b[1;32m    647\u001b[0m \u001b[38;5;66;03m# as is done in InteractiveShell.system_raw\u001b[39;00m\n\u001b[1;32m    648\u001b[0m \u001b[38;5;28;01mif\u001b[39;00m sys\u001b[38;5;241m.\u001b[39mplatform \u001b[38;5;241m==\u001b[39m \u001b[38;5;124m\"\u001b[39m\u001b[38;5;124mwin32\u001b[39m\u001b[38;5;124m\"\u001b[39m:\n",
            "\u001b[0;31mOSError\u001b[0m: Background processes not supported."
          ]
        }
      ],
      "source": [
        "# Navigate to the Stanford CoreNLP directory\n",
        "%cd /home/sabin/Downloads/content/drive/MyDrive/gap-text2sql/gap-text2sql/rat-sql-gap/third_party/stanford-corenlp-4.5.8\n",
        "\n",
        "# Start the Stanford CoreNLP Server\n",
        "!nohup java -mx4g -cp \"*\" edu.stanford.nlp.pipeline.StanfordCoreNLPServer -port 8999 -timeout 15000 > server.log &\n",
        "\n",
        "# Return to the previous directory\n",
        "%cd ../../\n"
      ]
    },
    {
      "cell_type": "code",
      "execution_count": 21,
      "metadata": {
        "colab": {
          "base_uri": "https://localhost:8080/"
        },
        "id": "oU9jeGjTUame",
        "outputId": "ebd9d640-d974-46a2-9a1f-3917b57ad816"
      },
      "outputs": [
        {
          "name": "stdout",
          "output_type": "stream",
          "text": [
            "  % Total    % Received % Xferd  Average Speed   Time    Time     Time  Current\n",
            "                                 Dload  Upload   Total   Spent    Left  Speed\n",
            "100 3629M  100 3629M    0     0  4671k      0  0:13:15  0:13:15 --:--:-- 1044k0:12:41 9385k:11:03  0:03:40  0:07:23 1408k5:36  0:05:59 3229k\n",
            "  % Total    % Received % Xferd  Average Speed   Time    Time     Time  Current\n",
            "                                 Dload  Upload   Total   Spent    Left  Speed\n",
            " 79 2335M   79 1865M    0     0  6536k      0  0:06:05  0:04:52  0:01:13 8079k3:27 7292k\n",
            "curl: (23) Failure writing output to destination\n"
          ]
        }
      ],
      "source": [
        "# Create necessary directories\n",
        "!mkdir -p logdir/bart_run_1/bs\\=12\\,lr\\=1.0e-04\\,bert_lr\\=1.0e-05\\,end_lr\\=0e0\\,att\\=1/\n",
        "!mkdir -p pretrained_checkpoint\n",
        "\n",
        "# Download the fine-tuned checkpoint using curl\n",
        "!curl https://gap-text2sql-public.s3.amazonaws.com/checkpoint-artifacts/gap-finetuned-checkpoint -o logdir/bart_run_1/bs\\=12\\,lr\\=1.0e-04\\,bert_lr\\=1.0e-05\\,end_lr\\=0e0\\,att\\=1/model_checkpoint-00041000\n",
        "\n",
        "# Download the pretrained checkpoint using curl\n",
        "!curl https://gap-text2sql-public.s3.amazonaws.com/checkpoint-artifacts/pretrained-checkpoint -o pretrained_checkpoint/pytorch_model.bin\n"
      ]
    },
    {
      "cell_type": "code",
      "execution_count": 24,
      "metadata": {
        "colab": {
          "base_uri": "https://localhost:8080/"
        },
        "id": "UbFvblnY37n9",
        "outputId": "25b1d7ac-aa6a-4465-9953-8e65e133f2d5"
      },
      "outputs": [
        {
          "name": "stdout",
          "output_type": "stream",
          "text": [
            "/home/sabin/Downloads/content/drive/MyDrive/gap-text2sql/gap-text2sql/rat-sql-gap\n"
          ]
        }
      ],
      "source": [
        "%cd /home/sabin/Downloads/content/drive/MyDrive/gap-text2sql/gap-text2sql/rat-sql-gap"
      ]
    },
    {
      "cell_type": "code",
      "execution_count": 25,
      "metadata": {
        "colab": {
          "base_uri": "https://localhost:8080/"
        },
        "id": "pO-xpLNA4wgs",
        "outputId": "828e45c6-f7aa-46d3-bce0-7632667e4b21"
      },
      "outputs": [
        {
          "name": "stdout",
          "output_type": "stream",
          "text": [
            "Defaulting to user installation because normal site-packages is not writeable\n",
            "Requirement already satisfied: transformers in /home/sabin/.local/lib/python3.12/site-packages (from -r requirements.txt (line 1)) (4.45.1)\n",
            "Requirement already satisfied: jsonnet~=0.14.0 in /home/sabin/.local/lib/python3.12/site-packages (from -r requirements.txt (line 2)) (0.14.0)\n",
            "Requirement already satisfied: nltk~=3.4 in /home/sabin/.local/lib/python3.12/site-packages (from -r requirements.txt (line 3)) (3.9.1)\n",
            "Requirement already satisfied: networkx~=2.2 in /home/sabin/.local/lib/python3.12/site-packages (from -r requirements.txt (line 4)) (2.8.8)\n",
            "Requirement already satisfied: entmax in /home/sabin/.local/lib/python3.12/site-packages (from -r requirements.txt (line 5)) (1.3)\n",
            "Requirement already satisfied: pyrsistent~=0.14.9 in /home/sabin/.local/lib/python3.12/site-packages (from -r requirements.txt (line 6)) (0.14.11)\n",
            "Requirement already satisfied: bpemb~=0.2.11 in /home/sabin/.local/lib/python3.12/site-packages (from -r requirements.txt (line 7)) (0.2.12)\n",
            "Requirement already satisfied: stanford-corenlp~=3.9.2 in /home/sabin/.local/lib/python3.12/site-packages (from -r requirements.txt (line 8)) (3.9.2)\n",
            "Requirement already satisfied: torchtext~=0.3.1 in /home/sabin/.local/lib/python3.12/site-packages (from -r requirements.txt (line 9)) (0.3.1)\n",
            "Requirement already satisfied: filelock in /home/sabin/.local/lib/python3.12/site-packages (from transformers->-r requirements.txt (line 1)) (3.16.1)\n",
            "Requirement already satisfied: huggingface-hub<1.0,>=0.23.2 in /home/sabin/.local/lib/python3.12/site-packages (from transformers->-r requirements.txt (line 1)) (0.25.1)\n",
            "Requirement already satisfied: numpy>=1.17 in /usr/lib/python3/dist-packages (from transformers->-r requirements.txt (line 1)) (1.26.4)\n",
            "Requirement already satisfied: packaging>=20.0 in /usr/lib/python3/dist-packages (from transformers->-r requirements.txt (line 1)) (24.0)\n",
            "Requirement already satisfied: pyyaml>=5.1 in /usr/lib/python3/dist-packages (from transformers->-r requirements.txt (line 1)) (6.0.1)\n",
            "Requirement already satisfied: regex!=2019.12.17 in /home/sabin/.local/lib/python3.12/site-packages (from transformers->-r requirements.txt (line 1)) (2024.7.24)\n",
            "Requirement already satisfied: requests in /usr/lib/python3/dist-packages (from transformers->-r requirements.txt (line 1)) (2.31.0)\n",
            "Requirement already satisfied: safetensors>=0.4.1 in /home/sabin/.local/lib/python3.12/site-packages (from transformers->-r requirements.txt (line 1)) (0.4.5)\n",
            "Requirement already satisfied: tokenizers<0.21,>=0.20 in /home/sabin/.local/lib/python3.12/site-packages (from transformers->-r requirements.txt (line 1)) (0.20.0)\n",
            "Requirement already satisfied: tqdm>=4.27 in /home/sabin/.local/lib/python3.12/site-packages (from transformers->-r requirements.txt (line 1)) (4.66.5)\n",
            "Requirement already satisfied: click in /usr/lib/python3/dist-packages (from nltk~=3.4->-r requirements.txt (line 3)) (8.1.6)\n",
            "Requirement already satisfied: joblib in /home/sabin/.local/lib/python3.12/site-packages (from nltk~=3.4->-r requirements.txt (line 3)) (1.4.2)\n",
            "Requirement already satisfied: torch>=1.3 in /home/sabin/.local/lib/python3.12/site-packages (from entmax->-r requirements.txt (line 5)) (2.6.0)\n",
            "Requirement already satisfied: six in /usr/lib/python3/dist-packages (from pyrsistent~=0.14.9->-r requirements.txt (line 6)) (1.16.0)\n",
            "Requirement already satisfied: gensim in /home/sabin/.local/lib/python3.12/site-packages (from bpemb~=0.2.11->-r requirements.txt (line 7)) (4.3.3)\n",
            "Requirement already satisfied: sentencepiece in /home/sabin/.local/lib/python3.12/site-packages (from bpemb~=0.2.11->-r requirements.txt (line 7)) (0.2.0)\n",
            "Requirement already satisfied: corenlp-protobuf>=3.8.0 in /home/sabin/.local/lib/python3.12/site-packages (from stanford-corenlp~=3.9.2->-r requirements.txt (line 8)) (3.8.0)\n",
            "Requirement already satisfied: protobuf in /home/sabin/.local/lib/python3.12/site-packages (from corenlp-protobuf>=3.8.0->stanford-corenlp~=3.9.2->-r requirements.txt (line 8)) (4.25.5)\n",
            "Requirement already satisfied: fsspec>=2023.5.0 in /home/sabin/.local/lib/python3.12/site-packages (from huggingface-hub<1.0,>=0.23.2->transformers->-r requirements.txt (line 1)) (2024.9.0)\n",
            "Requirement already satisfied: typing-extensions>=3.7.4.3 in /usr/lib/python3/dist-packages (from huggingface-hub<1.0,>=0.23.2->transformers->-r requirements.txt (line 1)) (4.10.0)\n",
            "Requirement already satisfied: jinja2 in /usr/lib/python3/dist-packages (from torch>=1.3->entmax->-r requirements.txt (line 5)) (3.1.2)\n",
            "Requirement already satisfied: nvidia-cuda-nvrtc-cu12==12.4.127 in /home/sabin/.local/lib/python3.12/site-packages (from torch>=1.3->entmax->-r requirements.txt (line 5)) (12.4.127)\n",
            "Requirement already satisfied: nvidia-cuda-runtime-cu12==12.4.127 in /home/sabin/.local/lib/python3.12/site-packages (from torch>=1.3->entmax->-r requirements.txt (line 5)) (12.4.127)\n",
            "Requirement already satisfied: nvidia-cuda-cupti-cu12==12.4.127 in /home/sabin/.local/lib/python3.12/site-packages (from torch>=1.3->entmax->-r requirements.txt (line 5)) (12.4.127)\n",
            "Requirement already satisfied: nvidia-cudnn-cu12==9.1.0.70 in /home/sabin/.local/lib/python3.12/site-packages (from torch>=1.3->entmax->-r requirements.txt (line 5)) (9.1.0.70)\n",
            "Requirement already satisfied: nvidia-cublas-cu12==12.4.5.8 in /home/sabin/.local/lib/python3.12/site-packages (from torch>=1.3->entmax->-r requirements.txt (line 5)) (12.4.5.8)\n",
            "Requirement already satisfied: nvidia-cufft-cu12==11.2.1.3 in /home/sabin/.local/lib/python3.12/site-packages (from torch>=1.3->entmax->-r requirements.txt (line 5)) (11.2.1.3)\n",
            "Requirement already satisfied: nvidia-curand-cu12==10.3.5.147 in /home/sabin/.local/lib/python3.12/site-packages (from torch>=1.3->entmax->-r requirements.txt (line 5)) (10.3.5.147)\n",
            "Requirement already satisfied: nvidia-cusolver-cu12==11.6.1.9 in /home/sabin/.local/lib/python3.12/site-packages (from torch>=1.3->entmax->-r requirements.txt (line 5)) (11.6.1.9)\n",
            "Requirement already satisfied: nvidia-cusparse-cu12==12.3.1.170 in /home/sabin/.local/lib/python3.12/site-packages (from torch>=1.3->entmax->-r requirements.txt (line 5)) (12.3.1.170)\n",
            "Requirement already satisfied: nvidia-cusparselt-cu12==0.6.2 in /home/sabin/.local/lib/python3.12/site-packages (from torch>=1.3->entmax->-r requirements.txt (line 5)) (0.6.2)\n",
            "Requirement already satisfied: nvidia-nccl-cu12==2.21.5 in /home/sabin/.local/lib/python3.12/site-packages (from torch>=1.3->entmax->-r requirements.txt (line 5)) (2.21.5)\n",
            "Requirement already satisfied: nvidia-nvtx-cu12==12.4.127 in /home/sabin/.local/lib/python3.12/site-packages (from torch>=1.3->entmax->-r requirements.txt (line 5)) (12.4.127)\n",
            "Requirement already satisfied: nvidia-nvjitlink-cu12==12.4.127 in /home/sabin/.local/lib/python3.12/site-packages (from torch>=1.3->entmax->-r requirements.txt (line 5)) (12.4.127)\n",
            "Requirement already satisfied: triton==3.2.0 in /home/sabin/.local/lib/python3.12/site-packages (from torch>=1.3->entmax->-r requirements.txt (line 5)) (3.2.0)\n",
            "Requirement already satisfied: setuptools in /usr/lib/python3/dist-packages (from torch>=1.3->entmax->-r requirements.txt (line 5)) (68.1.2)\n",
            "Requirement already satisfied: sympy==1.13.1 in /home/sabin/.local/lib/python3.12/site-packages (from torch>=1.3->entmax->-r requirements.txt (line 5)) (1.13.1)\n",
            "Requirement already satisfied: mpmath<1.4,>=1.1.0 in /home/sabin/.local/lib/python3.12/site-packages (from sympy==1.13.1->torch>=1.3->entmax->-r requirements.txt (line 5)) (1.3.0)\n",
            "Requirement already satisfied: scipy<1.14.0,>=1.7.0 in /usr/lib/python3/dist-packages (from gensim->bpemb~=0.2.11->-r requirements.txt (line 7)) (1.11.4)\n",
            "Requirement already satisfied: smart-open>=1.8.1 in /home/sabin/.local/lib/python3.12/site-packages (from gensim->bpemb~=0.2.11->-r requirements.txt (line 7)) (7.1.0)\n",
            "Requirement already satisfied: wrapt in /home/sabin/.local/lib/python3.12/site-packages (from smart-open>=1.8.1->gensim->bpemb~=0.2.11->-r requirements.txt (line 7)) (1.16.0)\n"
          ]
        }
      ],
      "source": [
        "!pip install -r requirements.txt"
      ]
    },
    {
      "cell_type": "code",
      "execution_count": 27,
      "metadata": {
        "colab": {
          "base_uri": "https://localhost:8080/"
        },
        "id": "VYababNP4jrH",
        "outputId": "3fe25998-e940-4955-a5f2-ae9a9e9437fa"
      },
      "outputs": [
        {
          "name": "stdout",
          "output_type": "stream",
          "text": [
            "/home/sabin/Downloads/content/drive/MyDrive/gap-text2sql/gap-text2sql/rat-sql-gap/experiments/spider-configs/gap-run.jsonnet\n"
          ]
        }
      ],
      "source": [
        "!ls /home/sabin/Downloads/content/drive/MyDrive/gap-text2sql/gap-text2sql/rat-sql-gap/experiments/spider-configs/gap-run.jsonnet"
      ]
    },
    {
      "cell_type": "code",
      "execution_count": 28,
      "metadata": {
        "colab": {
          "base_uri": "https://localhost:8080/"
        },
        "id": "EUX_EDaT5JB8",
        "outputId": "de67154f-ff76-4f19-ebc1-e9607fcd4f95"
      },
      "outputs": [
        {
          "name": "stdout",
          "output_type": "stream",
          "text": [
            "Defaulting to user installation because normal site-packages is not writeable\n",
            "Collecting asdl\n",
            "  Downloading asdl-0.1.5.tar.gz (10 kB)\n",
            "  Preparing metadata (setup.py) ... \u001b[?25ldone\n",
            "\u001b[?25hBuilding wheels for collected packages: asdl\n",
            "  Building wheel for asdl (setup.py) ... \u001b[?25ldone\n",
            "\u001b[?25h  Created wheel for asdl: filename=asdl-0.1.5-py3-none-any.whl size=9907 sha256=036ac77bb4aabeff29d71576b1dd9f8beb4c6b47c674c8529fa4b99cfe262312\n",
            "  Stored in directory: /home/sabin/.cache/pip/wheels/d5/61/ed/5e99921d6c8c6ab284543f076e973ec46db6a22eed6992a67a\n",
            "Successfully built asdl\n",
            "Installing collected packages: asdl\n",
            "Successfully installed asdl-0.1.5\n"
          ]
        }
      ],
      "source": [
        "!pip install asdl"
      ]
    },
    {
      "cell_type": "code",
      "execution_count": 29,
      "metadata": {
        "colab": {
          "base_uri": "https://localhost:8080/"
        },
        "id": "vx_fOLg35dnq",
        "outputId": "d925b301-02c3-4a10-8b65-cf7945e05c8a"
      },
      "outputs": [
        {
          "name": "stdout",
          "output_type": "stream",
          "text": [
            "Defaulting to user installation because normal site-packages is not writeable\n",
            "Collecting protobuf==3.20.*\n",
            "  Downloading protobuf-3.20.3-py2.py3-none-any.whl.metadata (720 bytes)\n",
            "Downloading protobuf-3.20.3-py2.py3-none-any.whl (162 kB)\n",
            "\u001b[2K   \u001b[90m━━━━━━━━━━━━━━━━━━━━━━━━━━━━━━━━━━━━━━━\u001b[0m \u001b[32m162.1/162.1 kB\u001b[0m \u001b[31m672.0 kB/s\u001b[0m eta \u001b[36m0:00:00\u001b[0ma \u001b[36m0:00:01\u001b[0m\n",
            "\u001b[?25hInstalling collected packages: protobuf\n",
            "  Attempting uninstall: protobuf\n",
            "    Found existing installation: protobuf 4.25.5\n",
            "    Uninstalling protobuf-4.25.5:\n",
            "      Successfully uninstalled protobuf-4.25.5\n",
            "Successfully installed protobuf-3.20.3\n"
          ]
        }
      ],
      "source": [
        "!pip install protobuf==3.20.*\n"
      ]
    },
    {
      "cell_type": "code",
      "execution_count": null,
      "metadata": {
        "id": "t1ZpTcdD5kuE"
      },
      "outputs": [
        {
          "ename": "",
          "evalue": "",
          "output_type": "error",
          "traceback": [
            "\u001b[1;31mThe Kernel crashed while executing code in the current cell or a previous cell. \n",
            "\u001b[1;31mPlease review the code in the cell(s) to identify a possible cause of the failure. \n",
            "\u001b[1;31mClick <a href='https://aka.ms/vscodeJupyterKernelCrash'>here</a> for more info. \n",
            "\u001b[1;31mView Jupyter <a href='command:jupyter.viewOutput'>log</a> for further details."
          ]
        }
      ],
      "source": [
        "import os\n",
        "os._exit(00)\n"
      ]
    },
    {
      "cell_type": "code",
      "execution_count": 1,
      "metadata": {
        "colab": {
          "base_uri": "https://localhost:8080/"
        },
        "id": "R6v2dIHB6CEB",
        "outputId": "a5a85394-800b-40ca-ffdb-f29ef8fe82bf"
      },
      "outputs": [
        {
          "name": "stdout",
          "output_type": "stream",
          "text": [
            "Defaulting to user installation because normal site-packages is not writeable\n",
            "Collecting astor\n",
            "  Downloading astor-0.8.1-py2.py3-none-any.whl.metadata (4.2 kB)\n",
            "Downloading astor-0.8.1-py2.py3-none-any.whl (27 kB)\n",
            "Installing collected packages: astor\n",
            "Successfully installed astor-0.8.1\n"
          ]
        }
      ],
      "source": [
        "!pip install astor"
      ]
    },
    {
      "cell_type": "code",
      "execution_count": 2,
      "metadata": {
        "colab": {
          "base_uri": "https://localhost:8080/"
        },
        "id": "BxmNkaHq_YEW",
        "outputId": "16f4154e-ab1a-4243-b91c-07f66f38135b"
      },
      "outputs": [
        {
          "name": "stdout",
          "output_type": "stream",
          "text": [
            "Defaulting to user installation because normal site-packages is not writeable\n",
            "Collecting pudb\n",
            "  Downloading pudb-2024.1.3-py3-none-any.whl.metadata (4.4 kB)\n",
            "Requirement already satisfied: jedi<1,>=0.18 in /usr/lib/python3/dist-packages (from pudb) (0.19.1)\n",
            "Requirement already satisfied: packaging>=20.0 in /usr/lib/python3/dist-packages (from pudb) (24.0)\n",
            "Requirement already satisfied: pygments>=2.7.4 in /usr/lib/python3/dist-packages (from pudb) (2.17.2)\n",
            "Collecting urwid-readline (from pudb)\n",
            "  Downloading urwid_readline-0.15.1.tar.gz (9.0 kB)\n",
            "  Installing build dependencies ... \u001b[?25ldone\n",
            "\u001b[?25h  Getting requirements to build wheel ... \u001b[?25ldone\n",
            "\u001b[?25h  Preparing metadata (pyproject.toml) ... \u001b[?25ldone\n",
            "\u001b[?25hCollecting urwid>=2.4 (from pudb)\n",
            "  Downloading urwid-2.6.16-py3-none-any.whl.metadata (11 kB)\n",
            "Requirement already satisfied: typing-extensions in /usr/lib/python3/dist-packages (from urwid>=2.4->pudb) (4.10.0)\n",
            "Requirement already satisfied: wcwidth in /usr/lib/python3/dist-packages (from urwid>=2.4->pudb) (0.2.5)\n",
            "Downloading pudb-2024.1.3-py3-none-any.whl (87 kB)\n",
            "\u001b[2K   \u001b[90m━━━━━━━━━━━━━━━━━━━━━━━━━━━━━━━━━━━━━━━━\u001b[0m \u001b[32m88.0/88.0 kB\u001b[0m \u001b[31m757.7 kB/s\u001b[0m eta \u001b[36m0:00:00\u001b[0ma \u001b[36m0:00:01\u001b[0m\n",
            "\u001b[?25hDownloading urwid-2.6.16-py3-none-any.whl (297 kB)\n",
            "\u001b[2K   \u001b[90m━━━━━━━━━━━━━━━━━━━━━━━━━━━━━━━━━━━━━━━━\u001b[0m \u001b[32m297.2/297.2 kB\u001b[0m \u001b[31m2.1 MB/s\u001b[0m eta \u001b[36m0:00:00\u001b[0m00:01\u001b[0m00:01\u001b[0m\n",
            "\u001b[?25hBuilding wheels for collected packages: urwid-readline\n",
            "  Building wheel for urwid-readline (pyproject.toml) ... \u001b[?25ldone\n",
            "\u001b[?25h  Created wheel for urwid-readline: filename=urwid_readline-0.15.1-py3-none-any.whl size=9271 sha256=1c08b3c3f00140c60826ab4f8780ddcf70eab3eea12f1adde4362b31b058dce2\n",
            "  Stored in directory: /home/sabin/.cache/pip/wheels/7c/9f/91/6658ca67972b70a9d89fabda634a2941c40025910040d0014b\n",
            "Successfully built urwid-readline\n",
            "Installing collected packages: urwid, urwid-readline, pudb\n",
            "Successfully installed pudb-2024.1.3 urwid-2.6.16 urwid-readline-0.15.1\n"
          ]
        }
      ],
      "source": [
        "!pip install pudb"
      ]
    },
    {
      "cell_type": "code",
      "execution_count": 3,
      "metadata": {
        "colab": {
          "base_uri": "https://localhost:8080/"
        },
        "id": "amnKvQ4ARH8a",
        "outputId": "4cb0f0df-654c-414f-93b6-391a16fac246"
      },
      "outputs": [
        {
          "name": "stderr",
          "output_type": "stream",
          "text": [
            "[nltk_data] Downloading package punkt to /home/sabin/nltk_data...\n",
            "[nltk_data]   Package punkt is already up-to-date!\n"
          ]
        },
        {
          "data": {
            "text/plain": [
              "True"
            ]
          },
          "execution_count": 3,
          "metadata": {},
          "output_type": "execute_result"
        }
      ],
      "source": [
        "import nltk\n",
        "nltk.download('punkt')\n"
      ]
    },
    {
      "cell_type": "code",
      "execution_count": 4,
      "metadata": {
        "colab": {
          "base_uri": "https://localhost:8080/"
        },
        "id": "RWmpVmmaSi7I",
        "outputId": "977c43c3-b8e9-4798-88ac-0925d5fd8059"
      },
      "outputs": [
        {
          "name": "stderr",
          "output_type": "stream",
          "text": [
            "[nltk_data] Downloading package punkt_tab to /home/sabin/nltk_data...\n",
            "[nltk_data]   Package punkt_tab is already up-to-date!\n"
          ]
        },
        {
          "data": {
            "text/plain": [
              "True"
            ]
          },
          "execution_count": 4,
          "metadata": {},
          "output_type": "execute_result"
        }
      ],
      "source": [
        "import nltk\n",
        "nltk.download('punkt_tab')\n"
      ]
    },
    {
      "cell_type": "code",
      "execution_count": 7,
      "metadata": {
        "colab": {
          "base_uri": "https://localhost:8080/"
        },
        "id": "f_2FRC6_6D8k",
        "outputId": "dd228942-7820-44c9-f782-014d65d27342"
      },
      "outputs": [
        {
          "name": "stdout",
          "output_type": "stream",
          "text": [
            "/home/sabin/.local/lib/python3.12/site-packages/torch/utils/_pytree.py:185: FutureWarning: optree is installed but the version is too old to support PyTorch Dynamo in C++ pytree. C++ pytree support is disabled. Please consider upgrading optree using `python3 -m pip install --upgrade 'optree>=0.13.0'`.\n",
            "  warnings.warn(\n",
            "/home/sabin/Downloads/content/drive/MyDrive/gap-text2sql/gap-text2sql/rat-sql-gap/seq2struct/optimizers.py:129: SyntaxWarning: invalid escape sequence '\\:'\n",
            "  \"\"\"Implements Adam algorithm.\n",
            "/home/sabin/Downloads/content/drive/MyDrive/gap-text2sql/gap-text2sql/rat-sql-gap/seq2struct/utils/saver.py:13: SyntaxWarning: invalid escape sequence '\\d'\n",
            "  CHECKPOINT_PATTERN = re.compile('^model_checkpoint-(\\d+)$')\n",
            "usage: run.py [-h] mode exp_config_file\n",
            "run.py: error: the following arguments are required: exp_config_file\n"
          ]
        }
      ],
      "source": [
        "!python3 /home/sabin/Downloads/content/drive/MyDrive/gap-text2sql/gap-text2sql/rat-sql-gap/run.py /home/sabin/Downloads/content/drive/MyDrive/gap-text2sql/gap-text2sql/rat-sql-gap/experiments/spider-configs/gap-run.jsonnet"
      ]
    },
    {
      "cell_type": "code",
      "execution_count": null,
      "metadata": {
        "id": "XEL7JLMmzxZJ"
      },
      "outputs": [],
      "source": []
    },
    {
      "cell_type": "code",
      "execution_count": null,
      "metadata": {
        "id": "ymKTybVIKD62"
      },
      "outputs": [],
      "source": []
    }
  ],
  "metadata": {
    "colab": {
      "provenance": []
    },
    "kernelspec": {
      "display_name": "Python 3",
      "name": "python3"
    },
    "language_info": {
      "codemirror_mode": {
        "name": "ipython",
        "version": 3
      },
      "file_extension": ".py",
      "mimetype": "text/x-python",
      "name": "python",
      "nbconvert_exporter": "python",
      "pygments_lexer": "ipython3",
      "version": "3.12.3"
    }
  },
  "nbformat": 4,
  "nbformat_minor": 0
}
